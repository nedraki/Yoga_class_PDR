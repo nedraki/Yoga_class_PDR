{
 "cells": [
  {
   "cell_type": "code",
   "execution_count": 1,
   "id": "99c5edf6",
   "metadata": {},
   "outputs": [],
   "source": [
    "import pandas as pd\n",
    "from keras.models import Sequential\n",
    "from keras.layers import Dense, InputLayer\n",
    "\n",
    "import matplotlib.pyplot as plt\n",
    "import numpy as np\n",
    "# from keras.wrappers.scikit_learn import KerasClassifier\n",
    "from keras.utils import np_utils\n",
    "from sklearn.model_selection import cross_val_score\n",
    "from sklearn.model_selection import KFold\n",
    "from sklearn.preprocessing import LabelEncoder\n",
    "# from sklearn.pipeline import Pipeline\n",
    "from sklearn.model_selection import train_test_split\n"
   ]
  },
  {
   "cell_type": "code",
   "execution_count": 2,
   "id": "1aa22f32",
   "metadata": {},
   "outputs": [
    {
     "name": "stdout",
     "output_type": "stream",
     "text": [
      "<class 'pandas.core.frame.DataFrame'>\n",
      "RangeIndex: 1244 entries, 0 to 1243\n",
      "Data columns (total 18 columns):\n",
      " #   Column                                Non-Null Count  Dtype  \n",
      "---  ------                                --------------  -----  \n",
      " 0   name_en                               1244 non-null   object \n",
      " 1   Nose_CenterShoulders_CenterHips       1244 non-null   float64\n",
      " 2   LeftHip_LeftShoulder_LeftElbow        1244 non-null   float64\n",
      " 3   RightHip_RightShoulder_RightElbow     1244 non-null   float64\n",
      " 4   LeftShoulder_LeftElbow_LeftWrist      1244 non-null   float64\n",
      " 5   RightShoulder_RightElbow_RightWrist   1244 non-null   float64\n",
      " 6   LeftShoulder_CenterShoulders_Nose     1244 non-null   float64\n",
      " 7   RightShoulder_CenterShoulders_Nose    1244 non-null   float64\n",
      " 8   LeftIndex1_LeftWrist_LeftElbow        1244 non-null   float64\n",
      " 9   RightIndex1_RightWrist_RightElbow     1244 non-null   float64\n",
      " 10  LeftShoulder_LeftHip_LeftKnee         1244 non-null   float64\n",
      " 11  RightShoulder_RightHip_RightKnee      1244 non-null   float64\n",
      " 12  LeftHip_LeftKnee_LeftAnkle            1244 non-null   float64\n",
      " 13  RightHip_RightKnee_RightAnkle         1244 non-null   float64\n",
      " 14  LeftKnee_LeftAnkle_LeftFootIndex      1244 non-null   float64\n",
      " 15  RightKnee_RightAnkle_RightFootIndex   1244 non-null   float64\n",
      " 16  LeftElbow_CenterShoulders_RightElbow  1244 non-null   float64\n",
      " 17  LeftKnee_CenterHips_RightKnee         1244 non-null   float64\n",
      "dtypes: float64(17), object(1)\n",
      "memory usage: 175.1+ KB\n"
     ]
    }
   ],
   "source": [
    "df=pd.read_csv(\"full_data.csv\")\n",
    "df.info()"
   ]
  },
  {
   "cell_type": "code",
   "execution_count": 3,
   "id": "7bfbab1b",
   "metadata": {},
   "outputs": [
    {
     "name": "stdout",
     "output_type": "stream",
     "text": [
      "12\n"
     ]
    },
    {
     "data": {
      "text/plain": [
       "((995, 17), (995, 12))"
      ]
     },
     "execution_count": 3,
     "metadata": {},
     "output_type": "execute_result"
    }
   ],
   "source": [
    "X = df.iloc[:, 1:].to_numpy()\n",
    "y = df[\"name_en\"]\n",
    "\n",
    "# encode class values as integers\n",
    "encoder = LabelEncoder()\n",
    "encoder.fit(y)\n",
    "encoded_y = encoder.transform(y)\n",
    "\n",
    "print(len(pd.unique(encoded_y)))\n",
    "# convert integers to dummy variables (i.e. one hot encoded)\n",
    "dummy_y = np_utils.to_categorical(encoded_y)\n",
    "\n",
    "X_train, X_test, y_train, y_test = train_test_split(\n",
    "    X, dummy_y, test_size=0.2, random_state=42, stratify=y\n",
    ")\n",
    "X_train.shape, y_train.shape"
   ]
  },
  {
   "cell_type": "code",
   "execution_count": 4,
   "id": "5ba2b116",
   "metadata": {},
   "outputs": [
    {
     "name": "stdout",
     "output_type": "stream",
     "text": [
      "Model: \"sequential\"\n",
      "_________________________________________________________________\n",
      "Layer (type)                 Output Shape              Param #   \n",
      "=================================================================\n",
      "dense (Dense)                (None, 32)                576       \n",
      "_________________________________________________________________\n",
      "dense_1 (Dense)              (None, 12)                396       \n",
      "=================================================================\n",
      "Total params: 972\n",
      "Trainable params: 972\n",
      "Non-trainable params: 0\n",
      "_________________________________________________________________\n"
     ]
    }
   ],
   "source": [
    "# define baseline model\n",
    "def baseline_model():\n",
    "    # create model\n",
    "    model = Sequential()\n",
    "    model.add(InputLayer(input_shape=(X.shape[1])))  # dimensions of X_train\n",
    "    model.add(Dense(32, activation=\"relu\"))\n",
    "    model.add(Dense(12, activation=\"softmax\"))\n",
    "\n",
    "    # compile model\n",
    "    model.compile(\n",
    "        loss=\"categorical_crossentropy\",\n",
    "        optimizer=\"adam\",\n",
    "        metrics=[\"accuracy\"],\n",
    "    )\n",
    "    return model\n",
    "\n",
    "\n",
    "model = baseline_model()\n",
    "model.summary()"
   ]
  },
  {
   "cell_type": "code",
   "execution_count": 5,
   "id": "bbda4057",
   "metadata": {},
   "outputs": [
    {
     "name": "stdout",
     "output_type": "stream",
     "text": [
      "Epoch 1/25\n",
      "199/199 [==============================] - 12s 1ms/step - loss: 53.9204 - accuracy: 0.1834\n",
      "Epoch 2/25\n",
      "199/199 [==============================] - 0s 939us/step - loss: 7.2258 - accuracy: 0.5191\n",
      "Epoch 3/25\n",
      "199/199 [==============================] - 0s 997us/step - loss: 4.1906 - accuracy: 0.6612\n",
      "Epoch 4/25\n",
      "199/199 [==============================] - 0s 979us/step - loss: 2.9228 - accuracy: 0.7032\n",
      "Epoch 5/25\n",
      "199/199 [==============================] - 0s 886us/step - loss: 2.5147 - accuracy: 0.7413\n",
      "Epoch 6/25\n",
      "199/199 [==============================] - 0s 998us/step - loss: 1.6849 - accuracy: 0.8013\n",
      "Epoch 7/25\n",
      "199/199 [==============================] - 0s 993us/step - loss: 1.5074 - accuracy: 0.7939\n",
      "Epoch 8/25\n",
      "199/199 [==============================] - 0s 968us/step - loss: 1.1680 - accuracy: 0.82940s - loss: 1.1360 - accuracy: 0.83\n",
      "Epoch 9/25\n",
      "199/199 [==============================] - 0s 989us/step - loss: 1.1268 - accuracy: 0.8330\n",
      "Epoch 10/25\n",
      "199/199 [==============================] - 0s 914us/step - loss: 0.8500 - accuracy: 0.8833\n",
      "Epoch 11/25\n",
      "199/199 [==============================] - 0s 1ms/step - loss: 1.4502 - accuracy: 0.8323\n",
      "Epoch 12/25\n",
      "199/199 [==============================] - 0s 931us/step - loss: 1.2362 - accuracy: 0.8350\n",
      "Epoch 13/25\n",
      "199/199 [==============================] - 0s 958us/step - loss: 0.9357 - accuracy: 0.8535\n",
      "Epoch 14/25\n",
      "199/199 [==============================] - 0s 1ms/step - loss: 0.8227 - accuracy: 0.8737\n",
      "Epoch 15/25\n",
      "199/199 [==============================] - 0s 980us/step - loss: 0.4882 - accuracy: 0.9188\n",
      "Epoch 16/25\n",
      "199/199 [==============================] - 0s 944us/step - loss: 0.7714 - accuracy: 0.8763\n",
      "Epoch 17/25\n",
      "199/199 [==============================] - 0s 998us/step - loss: 0.8465 - accuracy: 0.8643\n",
      "Epoch 18/25\n",
      "199/199 [==============================] - 0s 940us/step - loss: 0.7140 - accuracy: 0.8825\n",
      "Epoch 19/25\n",
      "199/199 [==============================] - 0s 964us/step - loss: 0.7393 - accuracy: 0.8774\n",
      "Epoch 20/25\n",
      "199/199 [==============================] - ETA: 0s - loss: 0.7252 - accuracy: 0.88 - 0s 989us/step - loss: 0.7043 - accuracy: 0.8873\n",
      "Epoch 21/25\n",
      "199/199 [==============================] - 0s 930us/step - loss: 0.6140 - accuracy: 0.8812\n",
      "Epoch 22/25\n",
      "199/199 [==============================] - 0s 983us/step - loss: 0.6453 - accuracy: 0.8708\n",
      "Epoch 23/25\n",
      "199/199 [==============================] - 0s 948us/step - loss: 0.6979 - accuracy: 0.8656\n",
      "Epoch 24/25\n",
      "199/199 [==============================] - 0s 969us/step - loss: 0.4740 - accuracy: 0.9044\n",
      "Epoch 25/25\n",
      "199/199 [==============================] - 0s 876us/step - loss: 0.4556 - accuracy: 0.9037\n"
     ]
    }
   ],
   "source": [
    "history=model.fit(X_train, y_train, batch_size=5, epochs=25)"
   ]
  },
  {
   "cell_type": "code",
   "execution_count": 6,
   "id": "c6859522",
   "metadata": {},
   "outputs": [
    {
     "name": "stderr",
     "output_type": "stream",
     "text": [
      "/home/bram/.pyenv/versions/3.9.4/envs/cv/lib/python3.9/site-packages/keras/engine/sequential.py:425: UserWarning: `model.predict_proba()` is deprecated and will be removed after 2021-01-01. Please use `model.predict()` instead.\n",
      "  warnings.warn('`model.predict_proba()` is deprecated and '\n"
     ]
    },
    {
     "data": {
      "text/plain": [
       "array([[4.8000494e-30, 5.7536572e-15, 6.1524349e-16, ..., 1.7578576e-12,\n",
       "        5.6766306e-16, 5.9258679e-15],\n",
       "       [0.0000000e+00, 1.2235707e-01, 2.1069364e-22, ..., 8.6854045e-21,\n",
       "        4.4156410e-14, 1.2764751e-06],\n",
       "       [3.2231610e-11, 3.5250254e-30, 0.0000000e+00, ..., 3.6484314e-13,\n",
       "        5.0980281e-13, 0.0000000e+00],\n",
       "       ...,\n",
       "       [1.3584231e-15, 8.6470721e-20, 4.3447720e-27, ..., 3.5857975e-17,\n",
       "        9.0187021e-13, 1.8766859e-34],\n",
       "       [3.0851472e-19, 9.1912081e-19, 5.0521717e-24, ..., 3.0384867e-19,\n",
       "        4.1925704e-16, 1.2360357e-23],\n",
       "       [6.6553128e-18, 1.6005630e-25, 4.9021622e-23, ..., 1.9708397e-08,\n",
       "        9.9998546e-01, 1.7533816e-24]], dtype=float32)"
      ]
     },
     "execution_count": 6,
     "metadata": {},
     "output_type": "execute_result"
    }
   ],
   "source": [
    "model.predict_proba(X_test)"
   ]
  },
  {
   "cell_type": "code",
   "execution_count": 7,
   "id": "a52834bb",
   "metadata": {},
   "outputs": [
    {
     "name": "stdout",
     "output_type": "stream",
     "text": [
      "('Half Splits Pose', 'Half Splits Pose')\n",
      "('Upward-Facing Dog', 'Upward-Facing Dog')\n",
      "('Easy Pose', 'Easy Pose')\n",
      "(\"Child's pose\", \"Child's pose\")\n",
      "('Half Splits Pose', 'Half Splits Pose')\n",
      "('Cobra Pose', 'Cobra Pose')\n",
      "('cat pose', 'cat pose')\n",
      "('Low Lunge', 'Low Lunge')\n",
      "('Easy Pose', 'Easy Pose')\n",
      "('Downward-facing Dog', 'Downward-facing Dog')\n",
      "('Downward-facing Dog', 'Downward-facing Dog')\n",
      "('cat pose', 'cat pose')\n",
      "('cow pose', 'cow pose')\n",
      "('Upward-Facing Dog', 'Upward-Facing Dog')\n",
      "('Half Splits Pose', 'Low Lunge')\n",
      "(\"Child's pose\", \"Child's pose\")\n",
      "('Easy Pose', 'Easy Pose')\n",
      "('Half Splits Pose', 'Half Splits Pose')\n",
      "(\"Happy Baby's pose\", \"Happy Baby's pose\")\n",
      "('cat pose', 'cat pose')\n",
      "('Upward-Facing Dog', 'Upward-Facing Dog')\n",
      "('Downward-facing Dog', 'Downward-facing Dog')\n",
      "('high plank', 'high plank')\n",
      "(\"Child's pose\", 'Low Lunge')\n",
      "('cow pose', 'cow pose')\n",
      "('Easy Pose', 'Easy Pose')\n",
      "('Downward-facing Dog', 'Downward-facing Dog')\n",
      "(\"Happy Baby's pose\", \"Happy Baby's pose\")\n",
      "(\"Happy Baby's pose\", \"Happy Baby's pose\")\n",
      "('Easy Pose', 'Easy Pose')\n",
      "('Upward-Facing Dog', 'Cobra Pose')\n",
      "('Low Lunge', 'Low Lunge')\n",
      "('Downward-facing Dog', 'Downward-facing Dog')\n",
      "('Half Splits Pose', 'Half Splits Pose')\n",
      "('Easy Pose', 'Easy Pose')\n",
      "(\"Child's pose\", \"Child's pose\")\n",
      "('Downward-facing Dog', 'Downward-facing Dog')\n",
      "(\"Happy Baby's pose\", \"Happy Baby's pose\")\n",
      "('Low Lunge', 'Low Lunge')\n",
      "('Upward-Facing Dog', 'Cobra Pose')\n",
      "('high plank', 'high plank')\n",
      "('Downward-facing Dog', 'Downward-facing Dog')\n",
      "('Half Splits Pose', 'Half Splits Pose')\n",
      "('Downward-facing Dog', 'Downward-facing Dog')\n",
      "('cat pose', 'cat pose')\n",
      "('Low Lunge', 'Low Lunge')\n",
      "('Easy Pose', 'Easy Pose')\n",
      "('Half Splits Pose', 'Half Splits Pose')\n",
      "('Upward-Facing Dog', 'Upward-Facing Dog')\n",
      "(\"Child's pose\", \"Child's pose\")\n",
      "('Half Splits Pose', 'Half Splits Pose')\n",
      "('Low Lunge', 'Low Lunge')\n",
      "('Half Splits Pose', 'Half Splits Pose')\n",
      "('Half Splits Pose', 'Half Splits Pose')\n",
      "('Downward-facing Dog', 'Downward-facing Dog')\n",
      "('Standing Forward Bend', 'Standing Forward Bend')\n",
      "(\"Happy Baby's pose\", 'Standing Forward Bend')\n",
      "('Cobra Pose', 'Cobra Pose')\n",
      "(\"Child's pose\", \"Child's pose\")\n",
      "('Easy Pose', 'Easy Pose')\n",
      "('Upward-Facing Dog', 'Cobra Pose')\n",
      "('cow pose', 'cow pose')\n",
      "('Cobra Pose', 'Cobra Pose')\n",
      "('cow pose', 'cow pose')\n",
      "('cow pose', 'cow pose')\n",
      "('Half Splits Pose', 'Upward-Facing Dog')\n",
      "('cow pose', 'cow pose')\n",
      "('Easy Pose', 'Easy Pose')\n",
      "('cat pose', 'cat pose')\n",
      "('Half Splits Pose', 'Half Splits Pose')\n",
      "('cat pose', 'cat pose')\n",
      "('Half Splits Pose', 'Half Splits Pose')\n",
      "('Half Splits Pose', 'Half Splits Pose')\n",
      "('Half Splits Pose', 'Half Splits Pose')\n",
      "(\"Happy Baby's pose\", \"Happy Baby's pose\")\n",
      "('high plank', 'high plank')\n",
      "('Downward-facing Dog', 'Downward-facing Dog')\n",
      "('Standing Forward Bend', 'Standing Forward Bend')\n",
      "('cow pose', 'cow pose')\n",
      "('Standing Forward Bend', 'Standing Forward Bend')\n",
      "('Low Lunge', 'Low Lunge')\n",
      "('Upward-Facing Dog', 'Upward-Facing Dog')\n",
      "(\"Child's pose\", \"Child's pose\")\n",
      "('Downward-facing Dog', 'Downward-facing Dog')\n",
      "('Half Splits Pose', 'Upward-Facing Dog')\n",
      "('Upward-Facing Dog', 'Standing Forward Bend')\n",
      "(\"Child's pose\", \"Child's pose\")\n",
      "('Standing Forward Bend', 'Standing Forward Bend')\n",
      "('cow pose', 'cow pose')\n",
      "('cat pose', 'cat pose')\n",
      "('Upward-Facing Dog', 'Cobra Pose')\n",
      "(\"Happy Baby's pose\", \"Happy Baby's pose\")\n",
      "('Easy Pose', 'Easy Pose')\n",
      "('Downward-facing Dog', 'Downward-facing Dog')\n",
      "('Standing Forward Bend', 'Standing Forward Bend')\n",
      "('Easy Pose', 'Easy Pose')\n",
      "('high plank', 'high plank')\n",
      "('cow pose', 'cow pose')\n",
      "('high plank', 'high plank')\n",
      "('Low Lunge', 'Low Lunge')\n",
      "('cow pose', 'Upward-Facing Dog')\n",
      "('Easy Pose', 'Easy Pose')\n",
      "('Low Lunge', 'Low Lunge')\n",
      "('Standing Forward Bend', 'Standing Forward Bend')\n",
      "('cat pose', 'cat pose')\n",
      "(\"Child's pose\", \"Child's pose\")\n",
      "('Low Lunge', 'Low Lunge')\n",
      "('Downward-facing Dog', 'Downward-facing Dog')\n",
      "('Easy Pose', 'Easy Pose')\n",
      "(\"Child's pose\", \"Child's pose\")\n",
      "('Cobra Pose', 'Cobra Pose')\n",
      "('Upward-Facing Dog', 'Upward-Facing Dog')\n",
      "('Half Splits Pose', 'Half Splits Pose')\n",
      "('high plank', 'high plank')\n",
      "('Easy Pose', 'Easy Pose')\n",
      "('Upward-Facing Dog', 'Cobra Pose')\n",
      "('cow pose', 'cow pose')\n",
      "(\"Happy Baby's pose\", \"Happy Baby's pose\")\n",
      "('Cobra Pose', 'Cobra Pose')\n",
      "('Low Lunge', 'Low Lunge')\n",
      "('Low Lunge', 'Low Lunge')\n",
      "('Easy Pose', 'Easy Pose')\n",
      "('cow pose', 'cow pose')\n",
      "(\"Happy Baby's pose\", \"Happy Baby's pose\")\n",
      "(\"Child's pose\", 'Low Lunge')\n",
      "('Easy Pose', 'Easy Pose')\n",
      "('Downward-facing Dog', 'Standing Forward Bend')\n",
      "('Upward-Facing Dog', 'Upward-Facing Dog')\n",
      "('Upward-Facing Dog', 'Half Splits Pose')\n",
      "(\"Happy Baby's pose\", \"Happy Baby's pose\")\n",
      "('Half Splits Pose', 'Half Splits Pose')\n",
      "('Upward-Facing Dog', 'Cobra Pose')\n",
      "('cow pose', 'cow pose')\n",
      "('Low Lunge', 'Low Lunge')\n",
      "(\"Child's pose\", \"Child's pose\")\n",
      "('Low Lunge', 'Low Lunge')\n",
      "('high plank', 'high plank')\n",
      "('Low Lunge', 'Half Splits Pose')\n",
      "('Downward-facing Dog', 'Downward-facing Dog')\n",
      "('Downward-facing Dog', 'Downward-facing Dog')\n",
      "('Upward-Facing Dog', 'Cobra Pose')\n",
      "('cat pose', 'cat pose')\n",
      "('Upward-Facing Dog', 'Upward-Facing Dog')\n",
      "('Standing Forward Bend', 'Standing Forward Bend')\n",
      "('cow pose', 'cow pose')\n",
      "(\"Happy Baby's pose\", \"Happy Baby's pose\")\n",
      "('Upward-Facing Dog', 'Cobra Pose')\n",
      "('Half Splits Pose', 'Half Splits Pose')\n",
      "('cat pose', 'cat pose')\n",
      "('Upward-Facing Dog', 'Upward-Facing Dog')\n",
      "('cow pose', 'cat pose')\n",
      "('Downward-facing Dog', 'Standing Forward Bend')\n",
      "('Standing Forward Bend', 'Standing Forward Bend')\n",
      "('Half Splits Pose', 'Half Splits Pose')\n",
      "(\"Child's pose\", \"Child's pose\")\n",
      "('Easy Pose', 'Easy Pose')\n",
      "('Upward-Facing Dog', 'Upward-Facing Dog')\n",
      "('Downward-facing Dog', 'Downward-facing Dog')\n",
      "('Upward-Facing Dog', 'Upward-Facing Dog')\n",
      "('cat pose', 'cow pose')\n",
      "(\"Child's pose\", \"Child's pose\")\n",
      "('cow pose', 'cow pose')\n",
      "('high plank', 'high plank')\n",
      "('Cobra Pose', 'Cobra Pose')\n",
      "(\"Child's pose\", \"Child's pose\")\n",
      "('Low Lunge', 'Low Lunge')\n",
      "('cow pose', 'cow pose')\n",
      "('cow pose', 'cow pose')\n",
      "(\"Child's pose\", \"Child's pose\")\n",
      "('Upward-Facing Dog', 'Upward-Facing Dog')\n",
      "('Easy Pose', 'Easy Pose')\n",
      "(\"Happy Baby's pose\", \"Happy Baby's pose\")\n",
      "('Upward-Facing Dog', 'Upward-Facing Dog')\n",
      "('Low Lunge', 'Low Lunge')\n",
      "('Easy Pose', 'Easy Pose')\n",
      "('Low Lunge', 'Low Lunge')\n",
      "('cow pose', 'cow pose')\n",
      "('Half Splits Pose', 'Half Splits Pose')\n",
      "('Cobra Pose', 'Cobra Pose')\n",
      "('Half Splits Pose', 'Half Splits Pose')\n",
      "('Cobra Pose', 'Upward-Facing Dog')\n",
      "('Cobra Pose', 'Cobra Pose')\n",
      "('Upward-Facing Dog', 'Upward-Facing Dog')\n",
      "('Half Splits Pose', 'Half Splits Pose')\n",
      "('cow pose', 'cow pose')\n",
      "('high plank', 'cow pose')\n",
      "('Downward-facing Dog', 'Downward-facing Dog')\n",
      "('Cobra Pose', 'Upward-Facing Dog')\n",
      "('Cobra Pose', 'Cobra Pose')\n",
      "('Standing Forward Bend', 'Standing Forward Bend')\n",
      "('cow pose', 'cow pose')\n",
      "('high plank', 'high plank')\n",
      "(\"Happy Baby's pose\", \"Happy Baby's pose\")\n",
      "('Downward-facing Dog', 'Downward-facing Dog')\n",
      "('Easy Pose', 'Easy Pose')\n",
      "('cow pose', 'cow pose')\n",
      "('Downward-facing Dog', 'Half Splits Pose')\n",
      "(\"Child's pose\", \"Child's pose\")\n",
      "('Cobra Pose', 'Cobra Pose')\n",
      "('Easy Pose', 'Easy Pose')\n",
      "(\"Child's pose\", \"Child's pose\")\n",
      "('Low Lunge', 'Low Lunge')\n",
      "('Upward-Facing Dog', 'Upward-Facing Dog')\n",
      "('Easy Pose', 'Easy Pose')\n",
      "('Easy Pose', 'Easy Pose')\n",
      "('cat pose', 'cat pose')\n",
      "('Low Lunge', 'Low Lunge')\n",
      "(\"Child's pose\", \"Child's pose\")\n",
      "('Standing Forward Bend', 'Standing Forward Bend')\n",
      "('cat pose', 'cat pose')\n",
      "('Standing Forward Bend', 'Standing Forward Bend')\n",
      "('Low Lunge', 'Low Lunge')\n",
      "('high plank', 'high plank')\n",
      "('Standing Forward Bend', 'Standing Forward Bend')\n",
      "('Half Splits Pose', 'Low Lunge')\n",
      "('cat pose', 'cat pose')\n",
      "('Low Lunge', 'Low Lunge')\n",
      "(\"Happy Baby's pose\", \"Happy Baby's pose\")\n",
      "('Standing Forward Bend', 'Standing Forward Bend')\n",
      "('Half Splits Pose', 'Half Splits Pose')\n",
      "('high plank', 'high plank')\n",
      "('Standing Forward Bend', 'Standing Forward Bend')\n",
      "('Easy Pose', 'Easy Pose')\n",
      "('Upward-Facing Dog', 'Upward-Facing Dog')\n",
      "('cow pose', 'cow pose')\n",
      "('Downward-facing Dog', 'Standing Forward Bend')\n",
      "('Low Lunge', 'Low Lunge')\n",
      "('Low Lunge', 'Low Lunge')\n",
      "('Half Splits Pose', 'Half Splits Pose')\n",
      "('cat pose', 'cat pose')\n",
      "('Standing Forward Bend', 'Standing Forward Bend')\n",
      "('Easy Pose', 'Easy Pose')\n",
      "('Half Splits Pose', 'Half Splits Pose')\n",
      "('Upward-Facing Dog', 'Cobra Pose')\n",
      "('high plank', 'high plank')\n",
      "('Downward-facing Dog', 'Downward-facing Dog')\n",
      "('Easy Pose', 'Easy Pose')\n",
      "('Downward-facing Dog', 'Downward-facing Dog')\n",
      "('Half Splits Pose', 'Half Splits Pose')\n",
      "('Low Lunge', 'Low Lunge')\n",
      "('Downward-facing Dog', 'Downward-facing Dog')\n",
      "('cat pose', 'cat pose')\n",
      "('Low Lunge', 'Low Lunge')\n",
      "('Easy Pose', 'Easy Pose')\n",
      "('Standing Forward Bend', 'Standing Forward Bend')\n",
      "(\"Happy Baby's pose\", \"Happy Baby's pose\")\n",
      "(\"Happy Baby's pose\", \"Happy Baby's pose\")\n",
      "('Half Splits Pose', \"Happy Baby's pose\")\n",
      "('cow pose', 'cow pose')\n"
     ]
    },
    {
     "name": "stderr",
     "output_type": "stream",
     "text": [
      "/home/bram/.pyenv/versions/3.9.4/envs/cv/lib/python3.9/site-packages/keras/engine/sequential.py:450: UserWarning: `model.predict_classes()` is deprecated and will be removed after 2021-01-01. Please use instead:* `np.argmax(model.predict(x), axis=-1)`,   if your model does multi-class classification   (e.g. if it uses a `softmax` last-layer activation).* `(model.predict(x) > 0.5).astype(\"int32\")`,   if your model does binary classification   (e.g. if it uses a `sigmoid` last-layer activation).\n",
      "  warnings.warn('`model.predict_classes()` is deprecated and '\n"
     ]
    }
   ],
   "source": [
    "predictions = model.predict_classes(X_test)\n",
    "predictions_decoded = encoder.inverse_transform(predictions)\n",
    "\n",
    "y_test_decoded=encoder.inverse_transform([np.where(x==1)[0][0] for x in y_test])\n",
    "\n",
    "for x in zip(predictions_decoded, y_test_decoded): \n",
    "    print (x)"
   ]
  },
  {
   "cell_type": "code",
   "execution_count": 8,
   "id": "b2315457",
   "metadata": {},
   "outputs": [
    {
     "data": {
      "text/plain": [
       "[<matplotlib.lines.Line2D at 0x7ff6baafcb80>]"
      ]
     },
     "execution_count": 8,
     "metadata": {},
     "output_type": "execute_result"
    },
    {
     "data": {
      "image/png": "[encoded data removed]",
      "text/plain": [
       "<Figure size 432x288 with 1 Axes>"
      ]
     },
     "metadata": {
      "needs_background": "light"
     },
     "output_type": "display_data"
    }
   ],
   "source": [
    "plt.plot(history.history[\"accuracy\"])\n"
   ]
  },
  {
   "cell_type": "code",
   "execution_count": 9,
   "id": "dec8f976",
   "metadata": {},
   "outputs": [
    {
     "data": {
      "text/plain": [
       "[<matplotlib.lines.Line2D at 0x7ff6bac79f70>]"
      ]
     },
     "execution_count": 9,
     "metadata": {},
     "output_type": "execute_result"
    },
    {
     "data": {
      "image/png": "[encoded data removed]",
      "text/plain": [
       "<Figure size 432x288 with 1 Axes>"
      ]
     },
     "metadata": {
      "needs_background": "light"
     },
     "output_type": "display_data"
    }
   ],
   "source": [
    "plt.plot(history.history[\"loss\"])"
   ]
  },
  {
   "cell_type": "code",
   "execution_count": 41,
   "id": "3c05f4df",
   "metadata": {},
   "outputs": [
    {
     "name": "stdout",
     "output_type": "stream",
     "text": [
      "INFO:tensorflow:Assets written to: NN_model/assets\n"
     ]
    }
   ],
   "source": [
    "model.save('NN_model')"
   ]
  },
  {
   "cell_type": "code",
   "execution_count": 13,
   "id": "ead9e9a8",
   "metadata": {},
   "outputs": [],
   "source": [
    "from sklearn.metrics import classification_report"
   ]
  },
  {
   "cell_type": "code",
   "execution_count": 16,
   "id": "6ae46879-a601-45e1-a483-26f629557052",
   "metadata": {},
   "outputs": [
    {
     "name": "stdout",
     "output_type": "stream",
     "text": [
      "                       precision    recall  f1-score   support\n",
      "\n",
      "         Child's pose       0.89      1.00      0.94        17\n",
      "           Cobra Pose       0.83      0.53      0.65        19\n",
      "  Downward-facing Dog       0.84      1.00      0.91        21\n",
      "            Easy Pose       1.00      1.00      1.00        27\n",
      "     Half Splits Pose       0.83      0.89      0.86        27\n",
      "    Happy Baby's pose       0.94      0.94      0.94        16\n",
      "            Low Lunge       0.96      0.86      0.91        28\n",
      "Standing Forward Bend       1.00      0.76      0.86        21\n",
      "    Upward-Facing Dog       0.59      0.76      0.67        21\n",
      "             cat pose       0.94      0.94      0.94        16\n",
      "             cow pose       0.92      0.92      0.92        24\n",
      "           high plank       0.92      1.00      0.96        12\n",
      "\n",
      "             accuracy                           0.88       249\n",
      "            macro avg       0.89      0.88      0.88       249\n",
      "         weighted avg       0.89      0.88      0.88       249\n",
      "\n"
     ]
    }
   ],
   "source": [
    "print(classification_report(y_test_decoded,predictions_decoded,))"
   ]
  },
  {
   "cell_type": "code",
   "execution_count": null,
   "id": "89d0701e-d6d2-40c4-bb43-83d4c0b27af7",
   "metadata": {},
   "outputs": [],
   "source": []
  }
 ],
 "metadata": {
  "kernelspec": {
   "display_name": "CV",
   "language": "python",
   "name": "cv"
  },
  "language_info": {
   "codemirror_mode": {
    "name": "ipython",
    "version": 3
   },
   "file_extension": ".py",
   "mimetype": "text/x-python",
   "name": "python",
   "nbconvert_exporter": "python",
   "pygments_lexer": "ipython3",
   "version": "3.9.4"
  }
 },
 "nbformat": 4,
 "nbformat_minor": 5
}
